{
 "cells": [
  {
   "cell_type": "code",
   "execution_count": 1,
   "id": "f48275c9",
   "metadata": {
    "execution": {
     "iopub.execute_input": "2025-08-14T13:04:22.212037Z",
     "iopub.status.busy": "2025-08-14T13:04:22.211733Z",
     "iopub.status.idle": "2025-08-14T13:04:22.221027Z",
     "shell.execute_reply": "2025-08-14T13:04:22.220063Z"
    },
    "papermill": {
     "duration": 0.013327,
     "end_time": "2025-08-14T13:04:22.222349",
     "exception": false,
     "start_time": "2025-08-14T13:04:22.209022",
     "status": "completed"
    },
    "tags": []
   },
   "outputs": [
    {
     "name": "stdout",
     "output_type": "stream",
     "text": [
      "Hi\n"
     ]
    }
   ],
   "source": [
    "print(\"Hi\")"
   ]
  }
 ],
 "metadata": {
  "kaggle": {
   "accelerator": "none",
   "dataSources": [],
   "dockerImageVersionId": 31089,
   "isGpuEnabled": false,
   "isInternetEnabled": true,
   "language": "python",
   "sourceType": "notebook"
  },
  "kernelspec": {
   "display_name": "Python 3",
   "language": "python",
   "name": "python3"
  },
  "language_info": {
   "codemirror_mode": {
    "name": "ipython",
    "version": 3
   },
   "file_extension": ".py",
   "mimetype": "text/x-python",
   "name": "python",
   "nbconvert_exporter": "python",
   "pygments_lexer": "ipython3",
   "version": "3.11.13"
  },
  "papermill": {
   "default_parameters": {},
   "duration": 5.066772,
   "end_time": "2025-08-14T13:04:22.542095",
   "environment_variables": {},
   "exception": null,
   "input_path": "__notebook__.ipynb",
   "output_path": "__notebook__.ipynb",
   "parameters": {},
   "start_time": "2025-08-14T13:04:17.475323",
   "version": "2.6.0"
  }
 },
 "nbformat": 4,
 "nbformat_minor": 5
}
