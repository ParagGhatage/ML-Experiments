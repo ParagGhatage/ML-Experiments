{
 "cells": [
  {
   "cell_type": "markdown",
   "id": "fb9ecefa",
   "metadata": {
    "papermill": {
     "duration": 0.00306,
     "end_time": "2025-09-28T06:58:20.053874",
     "exception": false,
     "start_time": "2025-09-28T06:58:20.050814",
     "status": "completed"
    },
    "tags": []
   },
   "source": [
    "# Linear Regression"
   ]
  },
  {
   "cell_type": "markdown",
   "id": "cffe7a26",
   "metadata": {
    "papermill": {
     "duration": 0.002261,
     "end_time": "2025-09-28T06:58:20.058904",
     "exception": false,
     "start_time": "2025-09-28T06:58:20.056643",
     "status": "completed"
    },
    "tags": []
   },
   "source": [
    "creating a dataset which has 2 columns- weight and height.\n",
    "weight is between 50-70(in kgs) and height in between 150 - 190(in cms).\n",
    "\n",
    "model will take weight and predict height.\n",
    "\n",
    "#### Aim - find best fit line with minimal error."
   ]
  },
  {
   "cell_type": "code",
   "execution_count": 1,
   "id": "389ea1fa",
   "metadata": {
    "execution": {
     "iopub.execute_input": "2025-09-28T06:58:20.064843Z",
     "iopub.status.busy": "2025-09-28T06:58:20.064554Z",
     "iopub.status.idle": "2025-09-28T06:58:22.040779Z",
     "shell.execute_reply": "2025-09-28T06:58:22.039789Z"
    },
    "papermill": {
     "duration": 1.981041,
     "end_time": "2025-09-28T06:58:22.042306",
     "exception": false,
     "start_time": "2025-09-28T06:58:20.061265",
     "status": "completed"
    },
    "tags": []
   },
   "outputs": [
    {
     "name": "stdout",
     "output_type": "stream",
     "text": [
      "X:  [50 50 50 50 50 50 50 50 50 50 50 50 50 50 50 50 50 50 50 50 50 50 50 50\n",
      " 50 50 50 50 50 50 50 50 50 50 50 50 50 50 50 50 50 50 50 50 50 50 51 51\n",
      " 51 51 51 51 51 51 51 51 51 51 51 51 51 51 51 51 51 51 51 51 51 51 51 51\n",
      " 51 51 51 51 51 51 51 51 51 51 51 51 51 51 51 51 51 51 51 51 51 51 51 51\n",
      " 51 51 51 51 51 51 51 51 51 51 52 52 52 52 52 52 52 52 52 52 52 52 52 52\n",
      " 52 52 52 52 52 52 52 52 52 52 52 52 52 52 52 52 52 52 52 52 52 52 52 52\n",
      " 52 52 52 52 52 52 52 52 52 52 52 52 52 53 53 53 53 53 53 53 53 53 53 53\n",
      " 53 53 53 53 53 53 53 53 53 53 53 53 53 53 53 53 53 53 53 53 53 53 53 53\n",
      " 53 53 53 53 53 53 53 53 53 53 53 53 53 54 54 54 54 54 54 54 54 54 54 54\n",
      " 54 54 54 54 54 54 54 54 54 54 54 54 54 54 54 54 54 54 54 54 54 54 54 54\n",
      " 54 54 54 54 54 54 54 54 54 54 54 54 54 55 55 55 55 55 55 55 55 55 55 55\n",
      " 55 55 55 55 55 55 55 55 55 55 55 55 55 55 55 55 55 55 55 55 55 55 55 55\n",
      " 55 55 56 56 56 56 56 56 56 56 56 56 56 56 56 56 56 56 56 56 56 56 56 56\n",
      " 56 56 56 56 56 56 56 56 56 56 56 56 56 56 56 56 56 56 56 56 56 56 56 56\n",
      " 56 56 56 56 57 57 57 57 57 57 57 57 57 57 57 57 57 57 57 57 57 57 57 57\n",
      " 57 57 57 57 57 57 57 57 57 57 57 57 57 57 57 57 57 57 57 57 57 57 57 57\n",
      " 57 57 57 57 57 57 57 57 57 57 57 57 57 57 57 57 57 57 57 57 57 58 58 58\n",
      " 58 58 58 58 58 58 58 58 58 58 58 58 58 58 58 58 58 58 58 58 58 58 58 58\n",
      " 58 58 58 58 58 58 58 58 58 58 58 59 59 59 59 59 59 59 59 59 59 59 59 59\n",
      " 59 59 59 59 59 59 59 59 59 59 59 59 59 59 59 59 59 59 59 59 59 59 59 59\n",
      " 59 59 59 59 59 59 59 59 59 59 60 60 60 60 60 60 60 60 60 60 60 60 60 60\n",
      " 60 60 60 60 60 60 60 60 60 60 60 60 60 60 60 60 60 60 60 60 60 60 60 60\n",
      " 60 60 60 60 60 60 60 60 60 60 60 60 60 60 60 60 60 60 61 61 61 61 61 61\n",
      " 61 61 61 61 61 61 61 61 61 61 61 61 61 61 61 61 61 61 61 61 61 61 61 61\n",
      " 61 61 61 61 61 61 61 61 61 61 61 61 61 61 62 62 62 62 62 62 62 62 62 62\n",
      " 62 62 62 62 62 62 62 62 62 62 62 62 62 62 62 62 62 62 62 62 62 62 62 62\n",
      " 62 62 62 62 62 62 62 62 62 62 62 62 62 62 62 62 62 62 62 62 62 63 63 63\n",
      " 63 63 63 63 63 63 63 63 63 63 63 63 63 63 63 63 63 63 63 63 63 63 63 63\n",
      " 63 63 63 63 63 63 63 63 63 63 63 63 63 63 63 63 63 63 64 64 64 64 64 64\n",
      " 64 64 64 64 64 64 64 64 64 64 64 64 64 64 64 64 64 64 64 64 64 64 64 64\n",
      " 64 64 64 64 64 64 64 64 64 64 64 64 64 64 64 64 64 64 64 64 64 64 64 65\n",
      " 65 65 65 65 65 65 65 65 65 65 65 65 65 65 65 65 65 65 65 65 65 65 65 65\n",
      " 65 65 65 65 65 65 65 65 65 65 65 65 65 65 65 65 65 65 65 65 65 65 65 65\n",
      " 65 66 66 66 66 66 66 66 66 66 66 66 66 66 66 66 66 66 66 66 66 66 66 66\n",
      " 66 66 66 66 66 66 66 66 66 66 66 66 66 66 66 66 66 66 66 66 66 66 66 66\n",
      " 66 66 67 67 67 67 67 67 67 67 67 67 67 67 67 67 67 67 67 67 67 67 67 67\n",
      " 67 67 67 67 67 67 67 67 67 67 67 67 67 67 67 67 67 67 67 67 67 67 67 67\n",
      " 67 67 67 67 67 67 67 67 67 67 67 67 68 68 68 68 68 68 68 68 68 68 68 68\n",
      " 68 68 68 68 68 68 68 68 68 68 68 68 68 68 68 68 68 68 68 68 68 68 68 68\n",
      " 68 68 68 68 68 68 68 68 68 68 68 69 69 69 69 69 69 69 69 69 69 69 69 69\n",
      " 69 69 69 69 69 69 69 69 69 69 69 69 69 69 69 69 69 69 69 69 69 69 69 69\n",
      " 69 69 69 69 69 69 69 69 69 69 69 69 69 69 69 69]\n",
      "y:  [172 157 182 187 177 181 162 184 172 170 171 155 183 155 166 165 158 155\n",
      " 152 153 159 160 162 181 180 165 157 182 157 176 179 186 175 180 151 158\n",
      " 161 189 160 182 187 182 183 171 174 183 181 175 177 166 153 184 184 188\n",
      " 185 179 158 159 150 170 178 169 188 181 176 169 165 164 155 180 180 155\n",
      " 174 174 180 154 180 187 155 154 171 166 163 172 156 184 161 171 162 157\n",
      " 165 170 162 154 176 189 177 154 160 186 178 151 175 155 181 157 177 179\n",
      " 150 166 161 175 170 156 163 188 188 172 179 174 174 160 150 189 162 171\n",
      " 184 167 176 174 179 157 162 170 160 186 169 168 175 172 163 179 153 165\n",
      " 176 169 178 164 153 180 180 169 153 167 155 154 154 165 176 161 187 181\n",
      " 180 188 155 167 181 154 169 150 157 167 178 166 172 164 181 158 158 175\n",
      " 173 170 181 171 177 156 188 184 187 184 161 167 161 177 170 152 169 151\n",
      " 152 169 183 183 187 180 172 172 169 163 178 181 160 178 172 184 156 174\n",
      " 182 150 158 157 168 189 169 164 161 161 172 175 162 153 168 158 162 173\n",
      " 154 151 157 179 169 184 172 159 189 154 180 169 184 158 180 178 180 187\n",
      " 182 172 161 157 161 163 187 182 177 152 176 185 155 188 181 186 179 153\n",
      " 168 177 170 174 187 164 150 160 164 158 176 185 155 171 157 161 176 176\n",
      " 168 152 176 164 186 175 181 168 157 185 184 178 172 179 187 161 184 164\n",
      " 162 180 187 158 170 152 161 172 186 171 164 171 168 157 159 181 186 156\n",
      " 160 180 151 184 189 185 185 179 161 170 166 159 162 173 152 180 156 161\n",
      " 160 155 163 170 170 189 180 155 160 165 172 158 161 170 174 161 181 154\n",
      " 171 186 155 163 171 169 150 163 163 160 176 162 160 180 177 165 175 154\n",
      " 159 164 164 178 189 166 172 173 175 165 162 154 189 177 168 161 158 179\n",
      " 177 154 187 153 156 172 155 159 165 177 163 165 185 159 168 159 189 178\n",
      " 172 156 161 152 178 181 160 177 154 174 165 184 187 157 177 158 159 166\n",
      " 167 157 160 170 179 158 189 178 174 189 179 180 184 168 185 184 153 158\n",
      " 177 155 184 186 185 156 161 155 182 157 182 185 151 165 154 160 161 184\n",
      " 172 185 188 166 155 173 154 177 180 164 177 157 162 164 166 182 187 160\n",
      " 186 155 170 158 164 175 172 167 189 157 155 166 168 182 169 178 172 163\n",
      " 179 189 176 179 187 161 185 161 154 173 151 173 166 173 164 168 172 165\n",
      " 179 182 169 172 189 164 156 158 172 174 159 176 154 174 153 167 189 175\n",
      " 183 163 177 182 157 174 168 153 158 183 166 188 166 178 172 167 180 169\n",
      " 165 176 187 187 162 166 165 180 189 179 186 155 169 167 151 150 188 175\n",
      " 180 182 169 172 161 162 166 186 162 151 163 189 182 174 167 164 177 183\n",
      " 169 175 169 185 184 162 151 162 177 151 178 182 165 185 157 152 158 169\n",
      " 165 158 181 152 186 183 186 166 187 159 175 163 153 173 177 174 176 183\n",
      " 160 174 163 179 178 158 155 162 171 170 174 162 183 176 173 189 165 166\n",
      " 174 179 186 162 161 162 174 189 170 169 174 175 186 159 173 171 164 160\n",
      " 178 189 156 189 187 152 180 162 183 151 168 166 173 180 178 167 178 152\n",
      " 169 172 151 169 158 169 174 184 178 180 167 174 158 168 150 166 170 164\n",
      " 156 168 187 187 165 189 160 189 152 182 183 173 173 176 162 169 179 186\n",
      " 156 156 150 159 182 181 169 172 181 172 179 169 162 170 169 158 178 183\n",
      " 158 158 173 173 186 175 178 185 161 175 183 189 189 155 172 156 161 164\n",
      " 156 175 182 182 154 174 165 180 186 177 188 187 155 177 186 176 153 172\n",
      " 158 182 189 155 176 181 176 183 160 151 161 176 165 179 161 155 175 171\n",
      " 162 181 177 160 181 154 184 183 158 162 177 173 151 178 180 188 172 154\n",
      " 189 188 155 182 179 172 182 172 151 164 157 166 177 152 170 152 169 159\n",
      " 166 186 162 178 153 167 150 168 172 161 160 158 152 156 181 186 162 172\n",
      " 159 157 178 160 158 185 187 171 162 166 177 183 172 184 153 186 163 161\n",
      " 168 150 168 157 173 180 181 163 168 174 186 170 159 150 176 181 187 172\n",
      " 156 157 172 172 169 157 168 167 170 167 154 176 180 161 156 168 167 165\n",
      " 156 156 185 151 151 162 170 174 164 174 176 163 159 189 160 151 162 169\n",
      " 166 166 186 170 178 186 169 185 154 165 168 163 153 175 152 185 175 159\n",
      " 154 188 152 160 165 183 186 172 185 189 179 160 178 160 188 189 189 185\n",
      " 162 157 181 151 172 152 187 182 159 153 160 178 164 161 184 154 151 168\n",
      " 180 188 166 157 150 168 176 155 158 179 151 187 186 158 176 172 186 157\n",
      " 152 158 161 165 185 176 155 176 167 179]\n",
      "dataset:  [[ 50 150]\n",
      " [ 50 150]\n",
      " [ 50 150]\n",
      " ...\n",
      " [ 69 189]\n",
      " [ 69 189]\n",
      " [ 69 189]]\n"
     ]
    },
    {
     "data": {
      "text/html": [
       "<div>\n",
       "<style scoped>\n",
       "    .dataframe tbody tr th:only-of-type {\n",
       "        vertical-align: middle;\n",
       "    }\n",
       "\n",
       "    .dataframe tbody tr th {\n",
       "        vertical-align: top;\n",
       "    }\n",
       "\n",
       "    .dataframe thead th {\n",
       "        text-align: right;\n",
       "    }\n",
       "</style>\n",
       "<table border=\"1\" class=\"dataframe\">\n",
       "  <thead>\n",
       "    <tr style=\"text-align: right;\">\n",
       "      <th></th>\n",
       "      <th>0</th>\n",
       "      <th>1</th>\n",
       "    </tr>\n",
       "  </thead>\n",
       "  <tbody>\n",
       "    <tr>\n",
       "      <th>0</th>\n",
       "      <td>50</td>\n",
       "      <td>150</td>\n",
       "    </tr>\n",
       "    <tr>\n",
       "      <th>1</th>\n",
       "      <td>50</td>\n",
       "      <td>150</td>\n",
       "    </tr>\n",
       "    <tr>\n",
       "      <th>2</th>\n",
       "      <td>50</td>\n",
       "      <td>150</td>\n",
       "    </tr>\n",
       "    <tr>\n",
       "      <th>3</th>\n",
       "      <td>50</td>\n",
       "      <td>150</td>\n",
       "    </tr>\n",
       "    <tr>\n",
       "      <th>4</th>\n",
       "      <td>50</td>\n",
       "      <td>150</td>\n",
       "    </tr>\n",
       "    <tr>\n",
       "      <th>...</th>\n",
       "      <td>...</td>\n",
       "      <td>...</td>\n",
       "    </tr>\n",
       "    <tr>\n",
       "      <th>995</th>\n",
       "      <td>69</td>\n",
       "      <td>189</td>\n",
       "    </tr>\n",
       "    <tr>\n",
       "      <th>996</th>\n",
       "      <td>69</td>\n",
       "      <td>189</td>\n",
       "    </tr>\n",
       "    <tr>\n",
       "      <th>997</th>\n",
       "      <td>69</td>\n",
       "      <td>189</td>\n",
       "    </tr>\n",
       "    <tr>\n",
       "      <th>998</th>\n",
       "      <td>69</td>\n",
       "      <td>189</td>\n",
       "    </tr>\n",
       "    <tr>\n",
       "      <th>999</th>\n",
       "      <td>69</td>\n",
       "      <td>189</td>\n",
       "    </tr>\n",
       "  </tbody>\n",
       "</table>\n",
       "<p>1000 rows × 2 columns</p>\n",
       "</div>"
      ],
      "text/plain": [
       "      0    1\n",
       "0    50  150\n",
       "1    50  150\n",
       "2    50  150\n",
       "3    50  150\n",
       "4    50  150\n",
       "..   ..  ...\n",
       "995  69  189\n",
       "996  69  189\n",
       "997  69  189\n",
       "998  69  189\n",
       "999  69  189\n",
       "\n",
       "[1000 rows x 2 columns]"
      ]
     },
     "execution_count": 1,
     "metadata": {},
     "output_type": "execute_result"
    }
   ],
   "source": [
    "import numpy as np\n",
    "import pandas as pd\n",
    "import matplotlib.pyplot as plt\n",
    "\n",
    "X = np.random.randint(50,70,size=(1000)) #generates 1-D array of 10 elements of integers between 50 to 70\n",
    "X.sort()\n",
    "print(\"X: \",X)\n",
    "\n",
    "y = np.random.randint(150,190,size=(1000)) # corresponding height for weights\n",
    "print(\"y: \",y)\n",
    "y.sort()\n",
    "\n",
    "dataset = np.column_stack((X,y))\n",
    "print(\"dataset: \",dataset)\n",
    "\n",
    "df = pd.DataFrame(dataset)\n",
    "df"
   ]
  },
  {
   "cell_type": "markdown",
   "id": "0a81e16d",
   "metadata": {
    "papermill": {
     "duration": 0.002683,
     "end_time": "2025-09-28T06:58:22.048026",
     "exception": false,
     "start_time": "2025-09-28T06:58:22.045343",
     "status": "completed"
    },
    "tags": []
   },
   "source": [
    "Visualizing the data"
   ]
  },
  {
   "cell_type": "code",
   "execution_count": 2,
   "id": "1e4ab2cd",
   "metadata": {
    "execution": {
     "iopub.execute_input": "2025-09-28T06:58:22.054698Z",
     "iopub.status.busy": "2025-09-28T06:58:22.054294Z",
     "iopub.status.idle": "2025-09-28T06:58:22.426380Z",
     "shell.execute_reply": "2025-09-28T06:58:22.425348Z"
    },
    "papermill": {
     "duration": 0.377258,
     "end_time": "2025-09-28T06:58:22.427915",
     "exception": false,
     "start_time": "2025-09-28T06:58:22.050657",
     "status": "completed"
    },
    "tags": []
   },
   "outputs": [
    {
     "data": {
      "image/png": "[encoded data removed]",
      "text/plain": [
       "<Figure size 640x480 with 1 Axes>"
      ]
     },
     "metadata": {},
     "output_type": "display_data"
    }
   ],
   "source": [
    "plot = plt.plot(X,y,\"o\")"
   ]
  },
  {
   "cell_type": "markdown",
   "id": "39f970e1",
   "metadata": {
    "papermill": {
     "duration": 0.003139,
     "end_time": "2025-09-28T06:58:22.436668",
     "exception": false,
     "start_time": "2025-09-28T06:58:22.433529",
     "status": "completed"
    },
    "tags": []
   },
   "source": [
    "### 📌 Cost Function (Linear Regression)\n",
    "\n",
    "The cost function we minimize in Linear Regression is the **Mean Squared Error (MSE):**\n",
    "\n",
    "$$\n",
    "J(\\theta) = \\frac{1}{2m} \\sum_{i=1}^{m} \\big( h_\\theta(x^{(i)}) - y^{(i)} \\big)^2\n",
    "$$\n",
    "\n",
    "Where:  \n",
    "- $$ {m}  = number-of-training-examples $$\n",
    "- $$ h_\\theta(x^{(i)}) = \\theta_0 + \\theta_1 x^{(i)} $$ (the hypothesis/predicted value)  \n",
    "- $$ y^{(i)}  = actual-target-value $$ \n",
    "- $$ \\theta  = parameters    $$ (intercept-and-slope_in_simple_regression)\n"
   ]
  },
  {
   "cell_type": "markdown",
   "id": "5d1c4088",
   "metadata": {
    "papermill": {
     "duration": 0.002865,
     "end_time": "2025-09-28T06:58:22.443162",
     "exception": false,
     "start_time": "2025-09-28T06:58:22.440297",
     "status": "completed"
    },
    "tags": []
   },
   "source": [
    "### Global minima- value of theta where cost function is minimized."
   ]
  },
  {
   "cell_type": "markdown",
   "id": "139dd2d0",
   "metadata": {
    "papermill": {
     "duration": 0.002878,
     "end_time": "2025-09-28T06:58:22.449360",
     "exception": false,
     "start_time": "2025-09-28T06:58:22.446482",
     "status": "completed"
    },
    "tags": []
   },
   "source": [
    "## Gradient Descent-\n",
    "\n",
    "we user Repeat convergence theorem to update value of theta with each step to find optimal value that will minimize the cost function.\n",
    "\n",
    "### Repeat convergence theorem- \n",
    "\n",
    "### 📌 Gradient Descent Update Rule\n",
    "\n",
    "The parameters $\\theta_j$ are updated using:\n",
    "\n",
    "$$\n",
    "\\theta_j = \\theta_j - \\alpha \\frac{\\partial J(\\theta)}{\\partial \\theta_j}\n",
    "$$\n",
    "\n",
    "Where:  \n",
    "- $\\alpha$ = learning rate  \n",
    "- $J(\\theta)$ = cost function  \n",
    "- $\\frac{\\partial J(\\theta)}{\\partial \\theta_j}$ = partial derivative of the cost with respect to $\\theta_j$ (slope)\n"
   ]
  },
  {
   "cell_type": "markdown",
   "id": "98b1bd1d",
   "metadata": {
    "papermill": {
     "duration": 0.002874,
     "end_time": "2025-09-28T06:58:22.455198",
     "exception": false,
     "start_time": "2025-09-28T06:58:22.452324",
     "status": "completed"
    },
    "tags": []
   },
   "source": [
    "so, when slope is negative, theta will increase and when slope is positive, theta will decrease.\n",
    "\n",
    "this will continue till we get theta that minimizes cost function."
   ]
  },
  {
   "cell_type": "markdown",
   "id": "ebbab15a",
   "metadata": {
    "papermill": {
     "duration": 0.002744,
     "end_time": "2025-09-28T06:58:22.460822",
     "exception": false,
     "start_time": "2025-09-28T06:58:22.458078",
     "status": "completed"
    },
    "tags": []
   },
   "source": []
  },
  {
   "cell_type": "code",
   "execution_count": 3,
   "id": "e2335e1b",
   "metadata": {
    "execution": {
     "iopub.execute_input": "2025-09-28T06:58:22.468086Z",
     "iopub.status.busy": "2025-09-28T06:58:22.467759Z",
     "iopub.status.idle": "2025-09-28T06:58:24.358950Z",
     "shell.execute_reply": "2025-09-28T06:58:24.357772Z"
    },
    "papermill": {
     "duration": 1.896769,
     "end_time": "2025-09-28T06:58:24.360574",
     "exception": false,
     "start_time": "2025-09-28T06:58:22.463805",
     "status": "completed"
    },
    "tags": []
   },
   "outputs": [
    {
     "name": "stdout",
     "output_type": "stream",
     "text": [
      "0.5717138029192399\n"
     ]
    }
   ],
   "source": [
    "from sklearn.model_selection import train_test_split\n",
    "from sklearn.linear_model import LinearRegression\n",
    "from sklearn.metrics import mean_squared_error\n",
    "\n",
    "X = X.reshape(-1, 1)\n",
    "\n",
    "X_train, X_test, y_train, y_test = train_test_split(X,y,test_size= 0.2)\n",
    "\n",
    "lin_reg = LinearRegression()\n",
    "lin_reg.fit(X_train,y_train)\n",
    "\n",
    "predictions = lin_reg.predict(X_test)\n",
    "\n",
    "error = mean_squared_error(y_test,predictions)\n",
    "print(error)"
   ]
  },
  {
   "cell_type": "markdown",
   "id": "32e76bc7",
   "metadata": {
    "papermill": {
     "duration": 0.002988,
     "end_time": "2025-09-28T06:58:24.366969",
     "exception": false,
     "start_time": "2025-09-28T06:58:24.363981",
     "status": "completed"
    },
    "tags": []
   },
   "source": [
    "# Logistic Regression"
   ]
  },
  {
   "cell_type": "markdown",
   "id": "f0c02e21",
   "metadata": {
    "papermill": {
     "duration": 0.002928,
     "end_time": "2025-09-28T06:58:24.372917",
     "exception": false,
     "start_time": "2025-09-28T06:58:24.369989",
     "status": "completed"
    },
    "tags": []
   },
   "source": []
  }
 ],
 "metadata": {
  "kaggle": {
   "accelerator": "none",
   "dataSources": [],
   "dockerImageVersionId": 31089,
   "isGpuEnabled": false,
   "isInternetEnabled": true,
   "language": "python",
   "sourceType": "notebook"
  },
  "kernelspec": {
   "display_name": "Python 3",
   "language": "python",
   "name": "python3"
  },
  "language_info": {
   "codemirror_mode": {
    "name": "ipython",
    "version": 3
   },
   "file_extension": ".py",
   "mimetype": "text/x-python",
   "name": "python",
   "nbconvert_exporter": "python",
   "pygments_lexer": "ipython3",
   "version": "3.11.13"
  },
  "papermill": {
   "default_parameters": {},
   "duration": 10.546708,
   "end_time": "2025-09-28T06:58:24.997364",
   "environment_variables": {},
   "exception": null,
   "input_path": "__notebook__.ipynb",
   "output_path": "__notebook__.ipynb",
   "parameters": {},
   "start_time": "2025-09-28T06:58:14.450656",
   "version": "2.6.0"
  }
 },
 "nbformat": 4,
 "nbformat_minor": 5
}
