{
 "cells": [
  {
   "cell_type": "markdown",
   "id": "5cd03b94",
   "metadata": {
    "papermill": {
     "duration": 0.002248,
     "end_time": "2025-09-23T20:57:46.344293",
     "exception": false,
     "start_time": "2025-09-23T20:57:46.342045",
     "status": "completed"
    },
    "tags": []
   },
   "source": [
    "## Boosting- Ensemble learning technique in which multiple weak learners combine to form strong learner.\n",
    "\n",
    "### Main Idea- We train multiple models sequentially each trying to correct it's previous one.\n",
    "\n",
    "### Popular methods- AdaBoost(Adaptive Boost), GradientBoost"
   ]
  },
  {
   "cell_type": "markdown",
   "id": "6fe3e1b9",
   "metadata": {
    "papermill": {
     "duration": 0.001084,
     "end_time": "2025-09-23T20:57:46.347027",
     "exception": false,
     "start_time": "2025-09-23T20:57:46.345943",
     "status": "completed"
    },
    "tags": []
   },
   "source": []
  }
 ],
 "metadata": {
  "kaggle": {
   "accelerator": "none",
   "dataSources": [],
   "dockerImageVersionId": 31089,
   "isGpuEnabled": false,
   "isInternetEnabled": true,
   "language": "python",
   "sourceType": "notebook"
  },
  "kernelspec": {
   "display_name": "Python 3",
   "language": "python",
   "name": "python3"
  },
  "language_info": {
   "codemirror_mode": {
    "name": "ipython",
    "version": 3
   },
   "file_extension": ".py",
   "mimetype": "text/x-python",
   "name": "python",
   "nbconvert_exporter": "python",
   "pygments_lexer": "ipython3",
   "version": "3.11.13"
  },
  "papermill": {
   "default_parameters": {},
   "duration": 7.125324,
   "end_time": "2025-09-23T20:57:46.768643",
   "environment_variables": {},
   "exception": null,
   "input_path": "__notebook__.ipynb",
   "output_path": "__notebook__.ipynb",
   "parameters": {},
   "start_time": "2025-09-23T20:57:39.643319",
   "version": "2.6.0"
  }
 },
 "nbformat": 4,
 "nbformat_minor": 5
}
